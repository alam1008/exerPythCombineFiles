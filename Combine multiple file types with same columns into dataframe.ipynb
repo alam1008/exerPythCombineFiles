{
 "cells": [
  {
   "cell_type": "code",
   "execution_count": 4,
   "metadata": {},
   "outputs": [
    {
     "output_type": "stream",
     "name": "stdout",
     "text": [
      "Opening dialogue box for folder selection. Please choose a folder.\n",
      "Folder selected:\n",
      "/Users/angela/Documents/BMI/NURS 6806 Computer Science Fundamentals/myProjects/exerPythCombineFiles/FileTypes\n"
     ]
    }
   ],
   "source": [
    "# Have user select excel sheet with needed data.\n",
    "import tkinter as tk\n",
    "from tkinter import filedialog\n",
    "\n",
    "root = tk.Tk()\n",
    "root.lift()\n",
    "root.withdraw()\n",
    "\n",
    "# This code block will open a specific file. (Uncomment the lines after this comment to use them.)\n",
    "#print('Opening dialogue box for file selection. Please choose a file.')\n",
    "#file_path = filedialog.askopenfilename()\n",
    "#print('File selected:')\n",
    "\n",
    "# This code block will get a directory path. (Uncomment the lines after this comment to use them.)\n",
    "print('Opening dialogue box for folder selection. Please choose a folder.')\n",
    "file_path = filedialog.askdirectory()\n",
    "print('Folder selected:')\n",
    "\n",
    "print(file_path)"
   ]
  },
  {
   "cell_type": "code",
   "execution_count": 5,
   "metadata": {},
   "outputs": [
    {
     "output_type": "stream",
     "name": "stdout",
     "text": [
      "['CSVtest_edited.csv', 'JSONtest3_edited.json', 'XMLtest2_edited.xml', '.DS_Store', 'JSONtest_edited.json', 'NewCombinedFile_2020-10-17.csv', 'EXCELtest_edited.xlsx', 'CSVtest2_edited.csv', 'JSONtest2_edited.json', 'Combine multiple file types with same columns into dataframe.py', 'XMLtest_edited.xml', 'EXCELtest2_edited.xlsx', 'XMLtest3_edited.xml', 'Combine multiple file types with same columns into dataframe.ipynb']\n['CSVtest_edited.csv', 'NewCombinedFile_2020-10-17.csv', 'CSVtest2_edited.csv'] ['EXCELtest_edited.xlsx', 'EXCELtest2_edited.xlsx'] ['JSONtest3_edited.json', 'JSONtest_edited.json', 'JSONtest2_edited.json'] ['XMLtest2_edited.xml', 'XMLtest_edited.xml', 'XMLtest3_edited.xml']\n"
     ]
    }
   ],
   "source": [
    "# Make sure correct files are recognized.\n",
    "\n",
    "import os\n",
    "import pandas as pd\n",
    "\n",
    "# List the files in the directory.\n",
    "files = os.listdir(file_path)\n",
    "print(files)\n",
    "\n",
    "# List of file types we want to add\n",
    "file_types = ['xlsx','csv','json','xml']\n",
    "\n",
    "# create a list of files for each file type\n",
    "files_csv = [f for f in files if f[-3:] == 'csv']\n",
    "files_xlsx = [f for f in files if f[-4:] == 'xlsx']\n",
    "files_json = [f for f in files if f[-4:] == 'json']\n",
    "files_xml = [f for f in files if f[-3:] == 'xml']\n",
    "\n",
    "print(files_csv,files_xlsx,files_json,files_xml)"
   ]
  },
  {
   "cell_type": "code",
   "execution_count": 6,
   "metadata": {},
   "outputs": [
    {
     "output_type": "stream",
     "name": "stdout",
     "text": [
      "36\n"
     ]
    },
    {
     "output_type": "execute_result",
     "data": {
      "text/plain": [
       "               name                 date height weight  \\\n",
       "0        Jack Smith             4/1/2019    185     91   \n",
       "1        Jack Black             4/2/2019    183     91   \n",
       "2      Jack Johnson             4/3/2019    186     92   \n",
       "3        Jack Smith             4/1/2019    185     91   \n",
       "4        Jack Black             4/2/2019    183     91   \n",
       "5      Jack Johnson             4/3/2019    186     92   \n",
       "6      Brock Bricks            4/10/2019    185     95   \n",
       "7        Jack Brack             6/7/2019    172     91   \n",
       "8     Julie Jackson             8/4/2019    165     85   \n",
       "9         Jen Smith  2019-05-02 00:00:00    153     50   \n",
       "10        Sam Smith  2019-01-02 00:00:00    160     55   \n",
       "11        Dan Smith  2019-09-02 00:00:00    170     60   \n",
       "12      Rock Royden  2019-05-02 00:00:00    160     52   \n",
       "13    Brandon Snads  2019-10-02 00:00:00    175     80   \n",
       "14   Pierce Brosnan  2019-03-02 00:00:00    180     84   \n",
       "15  William Jackson           06/03/2019    175     80   \n",
       "16       John Smith           10/02/2019    180     85   \n",
       "17     Bart Jackson           10/03/2019    182     84   \n",
       "18      Jude Smithe           10/08/2019    180    100   \n",
       "19       Jade Smith           04/08/2019    170     70   \n",
       "20      Lily Smithe           07/08/2019    170     79   \n",
       "21     Brock Bricks            4/10/2019    185     95   \n",
       "22       Jack Brack             6/7/2019    172     91   \n",
       "23    Julie Jackson             8/4/2019    165     85   \n",
       "24        Jen Smith  2019-05-02 00:00:00    153     50   \n",
       "25        Sam Smith  2019-01-02 00:00:00    160     55   \n",
       "26        Dan Smith  2019-09-02 00:00:00    170     60   \n",
       "27      Rock Royden  2019-05-02 00:00:00    160     52   \n",
       "28    Brandon Snads  2019-10-02 00:00:00    175     80   \n",
       "29   Pierce Brosnan  2019-03-02 00:00:00    180     84   \n",
       "30  William Jackson           06/03/2019    175     80   \n",
       "31       John Smith           10/02/2019    180     85   \n",
       "32     Bart Jackson           10/03/2019    182     84   \n",
       "33      Jude Smithe           10/08/2019    180    100   \n",
       "34       Jade Smith           04/08/2019    170     70   \n",
       "35      Lily Smithe           07/08/2019    170     79   \n",
       "\n",
       "                            Source  \n",
       "0               CSVtest_edited.csv  \n",
       "1               CSVtest_edited.csv  \n",
       "2               CSVtest_edited.csv  \n",
       "3   NewCombinedFile_2020-10-17.csv  \n",
       "4   NewCombinedFile_2020-10-17.csv  \n",
       "5   NewCombinedFile_2020-10-17.csv  \n",
       "6   NewCombinedFile_2020-10-17.csv  \n",
       "7   NewCombinedFile_2020-10-17.csv  \n",
       "8   NewCombinedFile_2020-10-17.csv  \n",
       "9   NewCombinedFile_2020-10-17.csv  \n",
       "10  NewCombinedFile_2020-10-17.csv  \n",
       "11  NewCombinedFile_2020-10-17.csv  \n",
       "12  NewCombinedFile_2020-10-17.csv  \n",
       "13  NewCombinedFile_2020-10-17.csv  \n",
       "14  NewCombinedFile_2020-10-17.csv  \n",
       "15  NewCombinedFile_2020-10-17.csv  \n",
       "16  NewCombinedFile_2020-10-17.csv  \n",
       "17  NewCombinedFile_2020-10-17.csv  \n",
       "18  NewCombinedFile_2020-10-17.csv  \n",
       "19  NewCombinedFile_2020-10-17.csv  \n",
       "20  NewCombinedFile_2020-10-17.csv  \n",
       "21             CSVtest2_edited.csv  \n",
       "22             CSVtest2_edited.csv  \n",
       "23             CSVtest2_edited.csv  \n",
       "24           EXCELtest_edited.xlsx  \n",
       "25           EXCELtest_edited.xlsx  \n",
       "26           EXCELtest_edited.xlsx  \n",
       "27          EXCELtest2_edited.xlsx  \n",
       "28          EXCELtest2_edited.xlsx  \n",
       "29          EXCELtest2_edited.xlsx  \n",
       "30           JSONtest3_edited.json  \n",
       "31            JSONtest_edited.json  \n",
       "32           JSONtest2_edited.json  \n",
       "33             XMLtest2_edited.xml  \n",
       "34              XMLtest_edited.xml  \n",
       "35             XMLtest3_edited.xml  "
      ],
      "text/html": "<div>\n<style scoped>\n    .dataframe tbody tr th:only-of-type {\n        vertical-align: middle;\n    }\n\n    .dataframe tbody tr th {\n        vertical-align: top;\n    }\n\n    .dataframe thead th {\n        text-align: right;\n    }\n</style>\n<table border=\"1\" class=\"dataframe\">\n  <thead>\n    <tr style=\"text-align: right;\">\n      <th></th>\n      <th>name</th>\n      <th>date</th>\n      <th>height</th>\n      <th>weight</th>\n      <th>Source</th>\n    </tr>\n  </thead>\n  <tbody>\n    <tr>\n      <th>0</th>\n      <td>Jack Smith</td>\n      <td>4/1/2019</td>\n      <td>185</td>\n      <td>91</td>\n      <td>CSVtest_edited.csv</td>\n    </tr>\n    <tr>\n      <th>1</th>\n      <td>Jack Black</td>\n      <td>4/2/2019</td>\n      <td>183</td>\n      <td>91</td>\n      <td>CSVtest_edited.csv</td>\n    </tr>\n    <tr>\n      <th>2</th>\n      <td>Jack Johnson</td>\n      <td>4/3/2019</td>\n      <td>186</td>\n      <td>92</td>\n      <td>CSVtest_edited.csv</td>\n    </tr>\n    <tr>\n      <th>3</th>\n      <td>Jack Smith</td>\n      <td>4/1/2019</td>\n      <td>185</td>\n      <td>91</td>\n      <td>NewCombinedFile_2020-10-17.csv</td>\n    </tr>\n    <tr>\n      <th>4</th>\n      <td>Jack Black</td>\n      <td>4/2/2019</td>\n      <td>183</td>\n      <td>91</td>\n      <td>NewCombinedFile_2020-10-17.csv</td>\n    </tr>\n    <tr>\n      <th>5</th>\n      <td>Jack Johnson</td>\n      <td>4/3/2019</td>\n      <td>186</td>\n      <td>92</td>\n      <td>NewCombinedFile_2020-10-17.csv</td>\n    </tr>\n    <tr>\n      <th>6</th>\n      <td>Brock Bricks</td>\n      <td>4/10/2019</td>\n      <td>185</td>\n      <td>95</td>\n      <td>NewCombinedFile_2020-10-17.csv</td>\n    </tr>\n    <tr>\n      <th>7</th>\n      <td>Jack Brack</td>\n      <td>6/7/2019</td>\n      <td>172</td>\n      <td>91</td>\n      <td>NewCombinedFile_2020-10-17.csv</td>\n    </tr>\n    <tr>\n      <th>8</th>\n      <td>Julie Jackson</td>\n      <td>8/4/2019</td>\n      <td>165</td>\n      <td>85</td>\n      <td>NewCombinedFile_2020-10-17.csv</td>\n    </tr>\n    <tr>\n      <th>9</th>\n      <td>Jen Smith</td>\n      <td>2019-05-02 00:00:00</td>\n      <td>153</td>\n      <td>50</td>\n      <td>NewCombinedFile_2020-10-17.csv</td>\n    </tr>\n    <tr>\n      <th>10</th>\n      <td>Sam Smith</td>\n      <td>2019-01-02 00:00:00</td>\n      <td>160</td>\n      <td>55</td>\n      <td>NewCombinedFile_2020-10-17.csv</td>\n    </tr>\n    <tr>\n      <th>11</th>\n      <td>Dan Smith</td>\n      <td>2019-09-02 00:00:00</td>\n      <td>170</td>\n      <td>60</td>\n      <td>NewCombinedFile_2020-10-17.csv</td>\n    </tr>\n    <tr>\n      <th>12</th>\n      <td>Rock Royden</td>\n      <td>2019-05-02 00:00:00</td>\n      <td>160</td>\n      <td>52</td>\n      <td>NewCombinedFile_2020-10-17.csv</td>\n    </tr>\n    <tr>\n      <th>13</th>\n      <td>Brandon Snads</td>\n      <td>2019-10-02 00:00:00</td>\n      <td>175</td>\n      <td>80</td>\n      <td>NewCombinedFile_2020-10-17.csv</td>\n    </tr>\n    <tr>\n      <th>14</th>\n      <td>Pierce Brosnan</td>\n      <td>2019-03-02 00:00:00</td>\n      <td>180</td>\n      <td>84</td>\n      <td>NewCombinedFile_2020-10-17.csv</td>\n    </tr>\n    <tr>\n      <th>15</th>\n      <td>William Jackson</td>\n      <td>06/03/2019</td>\n      <td>175</td>\n      <td>80</td>\n      <td>NewCombinedFile_2020-10-17.csv</td>\n    </tr>\n    <tr>\n      <th>16</th>\n      <td>John Smith</td>\n      <td>10/02/2019</td>\n      <td>180</td>\n      <td>85</td>\n      <td>NewCombinedFile_2020-10-17.csv</td>\n    </tr>\n    <tr>\n      <th>17</th>\n      <td>Bart Jackson</td>\n      <td>10/03/2019</td>\n      <td>182</td>\n      <td>84</td>\n      <td>NewCombinedFile_2020-10-17.csv</td>\n    </tr>\n    <tr>\n      <th>18</th>\n      <td>Jude Smithe</td>\n      <td>10/08/2019</td>\n      <td>180</td>\n      <td>100</td>\n      <td>NewCombinedFile_2020-10-17.csv</td>\n    </tr>\n    <tr>\n      <th>19</th>\n      <td>Jade Smith</td>\n      <td>04/08/2019</td>\n      <td>170</td>\n      <td>70</td>\n      <td>NewCombinedFile_2020-10-17.csv</td>\n    </tr>\n    <tr>\n      <th>20</th>\n      <td>Lily Smithe</td>\n      <td>07/08/2019</td>\n      <td>170</td>\n      <td>79</td>\n      <td>NewCombinedFile_2020-10-17.csv</td>\n    </tr>\n    <tr>\n      <th>21</th>\n      <td>Brock Bricks</td>\n      <td>4/10/2019</td>\n      <td>185</td>\n      <td>95</td>\n      <td>CSVtest2_edited.csv</td>\n    </tr>\n    <tr>\n      <th>22</th>\n      <td>Jack Brack</td>\n      <td>6/7/2019</td>\n      <td>172</td>\n      <td>91</td>\n      <td>CSVtest2_edited.csv</td>\n    </tr>\n    <tr>\n      <th>23</th>\n      <td>Julie Jackson</td>\n      <td>8/4/2019</td>\n      <td>165</td>\n      <td>85</td>\n      <td>CSVtest2_edited.csv</td>\n    </tr>\n    <tr>\n      <th>24</th>\n      <td>Jen Smith</td>\n      <td>2019-05-02 00:00:00</td>\n      <td>153</td>\n      <td>50</td>\n      <td>EXCELtest_edited.xlsx</td>\n    </tr>\n    <tr>\n      <th>25</th>\n      <td>Sam Smith</td>\n      <td>2019-01-02 00:00:00</td>\n      <td>160</td>\n      <td>55</td>\n      <td>EXCELtest_edited.xlsx</td>\n    </tr>\n    <tr>\n      <th>26</th>\n      <td>Dan Smith</td>\n      <td>2019-09-02 00:00:00</td>\n      <td>170</td>\n      <td>60</td>\n      <td>EXCELtest_edited.xlsx</td>\n    </tr>\n    <tr>\n      <th>27</th>\n      <td>Rock Royden</td>\n      <td>2019-05-02 00:00:00</td>\n      <td>160</td>\n      <td>52</td>\n      <td>EXCELtest2_edited.xlsx</td>\n    </tr>\n    <tr>\n      <th>28</th>\n      <td>Brandon Snads</td>\n      <td>2019-10-02 00:00:00</td>\n      <td>175</td>\n      <td>80</td>\n      <td>EXCELtest2_edited.xlsx</td>\n    </tr>\n    <tr>\n      <th>29</th>\n      <td>Pierce Brosnan</td>\n      <td>2019-03-02 00:00:00</td>\n      <td>180</td>\n      <td>84</td>\n      <td>EXCELtest2_edited.xlsx</td>\n    </tr>\n    <tr>\n      <th>30</th>\n      <td>William Jackson</td>\n      <td>06/03/2019</td>\n      <td>175</td>\n      <td>80</td>\n      <td>JSONtest3_edited.json</td>\n    </tr>\n    <tr>\n      <th>31</th>\n      <td>John Smith</td>\n      <td>10/02/2019</td>\n      <td>180</td>\n      <td>85</td>\n      <td>JSONtest_edited.json</td>\n    </tr>\n    <tr>\n      <th>32</th>\n      <td>Bart Jackson</td>\n      <td>10/03/2019</td>\n      <td>182</td>\n      <td>84</td>\n      <td>JSONtest2_edited.json</td>\n    </tr>\n    <tr>\n      <th>33</th>\n      <td>Jude Smithe</td>\n      <td>10/08/2019</td>\n      <td>180</td>\n      <td>100</td>\n      <td>XMLtest2_edited.xml</td>\n    </tr>\n    <tr>\n      <th>34</th>\n      <td>Jade Smith</td>\n      <td>04/08/2019</td>\n      <td>170</td>\n      <td>70</td>\n      <td>XMLtest_edited.xml</td>\n    </tr>\n    <tr>\n      <th>35</th>\n      <td>Lily Smithe</td>\n      <td>07/08/2019</td>\n      <td>170</td>\n      <td>79</td>\n      <td>XMLtest3_edited.xml</td>\n    </tr>\n  </tbody>\n</table>\n</div>"
     },
     "metadata": {},
     "execution_count": 6
    }
   ],
   "source": [
    "import json\n",
    "import requests \n",
    "import xml.etree.ElementTree as ET\n",
    "\n",
    "# Iterate through the files in the directory and append each one into the dataframe.\n",
    "# This will only work correctly if the files have the exact same column names.\n",
    "df_list = []\n",
    "for f in files_csv:\n",
    "    data = pd.read_csv(str(file_path) + '/' + str(f), index_col=None, header=0)\n",
    "    data['Source'] = f\n",
    "    df_list.append(data)\n",
    "    \n",
    "for f in files_xlsx:\n",
    "    data = pd.read_excel(str(file_path) + '/' + str(f))\n",
    "    data['Source'] = f\n",
    "    df_list.append(data)\n",
    "    \n",
    "# Iterate through the json files and add data from each to a list.\n",
    "json_list = []\n",
    "for f in files_json:\n",
    "    with open(str(file_path) + '/' + str(f)) as json_file:\n",
    "        json_obj = json.load(json_file)\n",
    "        json_obj['Source'] = f\n",
    "        json_list.append(json_obj.copy())\n",
    "# Turn the combined list into a dataframe.\n",
    "data = pd.DataFrame(json_list)\n",
    "# Add the data frame to the list of dataframes.\n",
    "df_list.append(data)\n",
    "    \n",
    "# Iterate through the xml files and add data from each to a list.\n",
    "xml_list = []\n",
    "for f in files_xml:\n",
    "    # create element tree object \n",
    "    tree = ET.parse(str(file_path) + '/' + str(f))\n",
    "    # get root element \n",
    "    root = tree.getroot()\n",
    "    # create dictionary from XML tags and values\n",
    "    itemdict = {}\n",
    "    for item in root:\n",
    "        itemdict[item.tag] = item.text\n",
    "    itemdict['Source'] = f\n",
    "    xml_list.append(itemdict.copy())\n",
    "# Turn the combined list into a dataframe.\n",
    "data = pd.DataFrame(xml_list)\n",
    "# Add the data frame to the list of dataframes.\n",
    "df_list.append(data)\n",
    "\n",
    "# Combine all the data frames in the list into a single data frame.    \n",
    "df =  pd.concat(df_list, axis=0, ignore_index=True, sort=False)\n",
    "\n",
    "# See how many rows the data frame has.\n",
    "print(len(df.index))\n",
    "\n",
    "# Show the data in the data frame.\n",
    "df"
   ]
  },
  {
   "cell_type": "code",
   "execution_count": 56,
   "metadata": {},
   "outputs": [
    {
     "output_type": "stream",
     "name": "stdout",
     "text": [
      "2020-10-17\n/Users/angela/Documents/BMI/NURS 6806 Computer Science Fundamentals/myProjects/exerPythCombineFiles/FileTypes/NewCombinedFile_2020-10-17.csv\nFile saved.\n"
     ]
    }
   ],
   "source": [
    "# Save the dataframe to a new combined csv file.\n",
    "\n",
    "# Add today's date to the name of the new file.\n",
    "from datetime import date\n",
    "today = date.today()\n",
    "print(today)\n",
    "\n",
    "filename = str(file_path) + '/' + 'NewCombinedFile_' + str(today) + '.csv'\n",
    "print(filename)\n",
    "\n",
    "df.to_csv(filename, index=False)\n",
    "print('File saved.')"
   ]
  }
 ],
 "metadata": {
  "kernelspec": {
   "display_name": "Python 3",
   "language": "python",
   "name": "python3"
  },
  "language_info": {
   "codemirror_mode": {
    "name": "ipython",
    "version": 3
   },
   "file_extension": ".py",
   "mimetype": "text/x-python",
   "name": "python",
   "nbconvert_exporter": "python",
   "pygments_lexer": "ipython3",
   "version": "3.8.3-final"
  },
  "varInspector": {
   "cols": {
    "lenName": 16,
    "lenType": 16,
    "lenVar": 40
   },
   "kernels_config": {
    "python": {
     "delete_cmd_postfix": "",
     "delete_cmd_prefix": "del ",
     "library": "var_list.py",
     "varRefreshCmd": "print(var_dic_list())"
    },
    "r": {
     "delete_cmd_postfix": ") ",
     "delete_cmd_prefix": "rm(",
     "library": "var_list.r",
     "varRefreshCmd": "cat(var_dic_list()) "
    }
   },
   "types_to_exclude": [
    "module",
    "function",
    "builtin_function_or_method",
    "instance",
    "_Feature"
   ],
   "window_display": false
  }
 },
 "nbformat": 4,
 "nbformat_minor": 2
}